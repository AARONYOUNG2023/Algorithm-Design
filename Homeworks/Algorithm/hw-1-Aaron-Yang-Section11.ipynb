{
 "cells": [
  {
   "cell_type": "markdown",
   "metadata": {},
   "source": [
    "# Homework 1 (DATS-6001)"
   ]
  },
  {
   "cell_type": "markdown",
   "metadata": {},
   "source": [
    "Your Name:  Aaron Yang"
   ]
  },
  {
   "cell_type": "markdown",
   "metadata": {},
   "source": [
    "## Selection Sort "
   ]
  },
  {
   "cell_type": "markdown",
   "metadata": {},
   "source": [
    "Consider sorting $n$ numbers stored in array $A[0:n-1]$ by first finding the smallest element of $A[0:n-1]$ and exchanging it with the element in $A[0]$. Then find the smallest element of $A[1:n-1]$, and exchange it with $A[1]$. Then find the smallest element of $A[2:n-1]$, and exchange it with $A[2]$. Continue in this manner for the first $(n-1)$ elements of $A$. "
   ]
  },
  {
   "cell_type": "markdown",
   "metadata": {},
   "source": [
    "### Question 1 (2 points)"
   ]
  },
  {
   "cell_type": "markdown",
   "metadata": {},
   "source": [
    "Write a pseudocode for this algorithm, which is known as **selection sort**. "
   ]
  },
  {
   "cell_type": "markdown",
   "metadata": {},
   "source": [
    "START\n",
    "\n",
    "for i in (0, n-1):\n",
    "    \n",
    "   min_index = i\n",
    "    \n",
    "    for j in (i+1, n):\n",
    "    \n",
    "        if A[min_index] > A[j]:\n",
    "        \n",
    "           min_index = j\n",
    "            \n",
    "        ENDIF\n",
    "        \n",
    "     ENDFOR\n",
    "        \n",
    "   Swap the number in A[min_index] and A[i]\n",
    "    \n",
    "ENDFOR\n",
    "\n",
    "END"
   ]
  },
  {
   "cell_type": "markdown",
   "metadata": {},
   "source": [
    "### Question 2 (1 point)"
   ]
  },
  {
   "cell_type": "markdown",
   "metadata": {},
   "source": [
    "Why does it need to run for only the first $(n-1)$ elements, rather than for all $n$ elements?\n"
   ]
  },
  {
   "cell_type": "markdown",
   "metadata": {},
   "source": [
    "There are two reasons.\n",
    "\n",
    "The first reason is when you loop the first (n-1) elements, you get the first (n-1) smallest elements in the array, so the maximum element is located in the last position.\n",
    "\n",
    "The second reason is if you loop the last one element, you have no more element to compare with this last one."
   ]
  },
  {
   "cell_type": "markdown",
   "metadata": {},
   "source": [
    "### Question 3 (1 point)"
   ]
  },
  {
   "cell_type": "markdown",
   "metadata": {},
   "source": [
    "Describe the worst-case input for the algorithm."
   ]
  },
  {
   "cell_type": "markdown",
   "metadata": {},
   "source": [
    "The worst-case is that the numbers/elements in this array beginning from the largest one to the smallest one. That makes the algorithm has to run the most time to complete the whole process.\n",
    "\n",
    "\n",
    "START                                                                          Worst-Case Time T(n)\n",
    "\n",
    "for i in (0, n-1):                                                                  n-1\n",
    "    \n",
    "   min_index = i                                                                  n-1\n",
    "    \n",
    "    for j in (i+1, n):                                                             (n-1) +(n-2)+...+1 \n",
    "    \n",
    "        if A[min_index] > A[j]:                                            (n-1)+(n-2)+...+1\n",
    "        \n",
    "           min_index = j                                                        (n-1)+(n-2)+...+1\n",
    "            \n",
    "        ENDIF\n",
    "        \n",
    "     ENDFOR\n",
    "        \n",
    "   Swap the number in A[min_index] and A[i]                  n-1\n",
    "    \n",
    "ENDFOR\n",
    "\n",
    "END"
   ]
  },
  {
   "cell_type": "markdown",
   "metadata": {},
   "source": [
    "### Question 4 (3 points)"
   ]
  },
  {
   "cell_type": "markdown",
   "metadata": {},
   "source": [
    "Give the worst-case running time of selection sort in terms of the input size $n$. Try to be as thorough as possible."
   ]
  },
  {
   "cell_type": "markdown",
   "metadata": {},
   "source": [
    "START                                                                          Worst-Case Time T(n)\n",
    "\n",
    "for i in (0, n-1):                                                                  n-1\n",
    "    \n",
    "   min_index = i                                                                  n-1\n",
    "    \n",
    "    for j in (i+1, n):                                                             (n-1) +(n-2)+...+1 \n",
    "    \n",
    "        if A[min_index] > A[j]:                                            (n-1)+(n-2)+...+1\n",
    "        \n",
    "           min_index = j                                                        (n-1)+(n-2)+...+1\n",
    "            \n",
    "        ENDIF\n",
    "        \n",
    "     ENDFOR\n",
    "        \n",
    "   Swap the number in A[min_index] and A[i]                  n-1\n",
    "    \n",
    "ENDFOR\n",
    "\n",
    "END\n",
    "\n",
    "As the time counted above, the total time T(n) is roughly 3*(n-1) * n /2 + 3(n-1). If more roughly, T(n) = C1* (n-1) *n/2 + C2 * (n-1) "
   ]
  },
  {
   "cell_type": "markdown",
   "metadata": {},
   "source": [
    "### Question 5 (3 points)"
   ]
  },
  {
   "cell_type": "code",
   "execution_count": 2,
   "metadata": {},
   "outputs": [],
   "source": [
    "# Implement the algorithm in Python\n",
    "def selection_sort(arr):\n",
    "    # Define the n\n",
    "    n = len(arr)\n",
    "    # the first loop \n",
    "    for j in range(0, n-1):\n",
    "        min_index = j\n",
    "        # the second loop\n",
    "        for i in range(j+1, n):\n",
    "            if arr[min_index] > arr[i]:\n",
    "               min_index = i\n",
    "        # swap the two arr[i]\n",
    "        arr[j], arr[min_index] = arr[min_index], arr[j]"
   ]
  },
  {
   "cell_type": "markdown",
   "metadata": {},
   "source": []
  }
 ],
 "metadata": {
  "kernelspec": {
   "display_name": "Python 3 (ipykernel)",
   "language": "python",
   "name": "python3"
  },
  "language_info": {
   "codemirror_mode": {
    "name": "ipython",
    "version": 3
   },
   "file_extension": ".py",
   "mimetype": "text/x-python",
   "name": "python",
   "nbconvert_exporter": "python",
   "pygments_lexer": "ipython3",
   "version": "3.11.5"
  }
 },
 "nbformat": 4,
 "nbformat_minor": 2
}
