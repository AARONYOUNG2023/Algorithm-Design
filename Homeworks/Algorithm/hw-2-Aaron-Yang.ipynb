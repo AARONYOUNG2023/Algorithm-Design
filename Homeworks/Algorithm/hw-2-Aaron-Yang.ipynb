{
 "cells": [
  {
   "cell_type": "markdown",
   "metadata": {},
   "source": [
    "# Homework 2"
   ]
  },
  {
   "cell_type": "markdown",
   "metadata": {},
   "source": [
    "Your Name: Aaron Yang"
   ]
  },
  {
   "cell_type": "markdown",
   "metadata": {},
   "source": [
    "## Big-$O$ Notation"
   ]
  },
  {
   "cell_type": "markdown",
   "metadata": {},
   "source": [
    "### Question 1 (3 points)"
   ]
  },
  {
   "cell_type": "markdown",
   "metadata": {},
   "source": [
    "Is $2^{n+1}=O(2^n)$? Justify your answer."
   ]
  },
  {
   "cell_type": "markdown",
   "metadata": {},
   "source": [
    "YES \n",
    "\n",
    "$2^{n+1} = O(2^n)$\n",
    "\n",
    "If there exist positive constants c and $n_0$ such that:\n",
    "   $ 0\\le2^{n+1} \\le c2^n$ for all $n \\ge n_0$\n",
    "    \n",
    "We can find a conbination, $c = 3$, and $n_0 = 1$ to satisfy the all conditions. \n",
    "\n",
    "Therefore, $2^{n+1} = O(2^n)$"
   ]
  },
  {
   "cell_type": "markdown",
   "metadata": {},
   "source": [
    "### Question 2 (3 points)"
   ]
  },
  {
   "cell_type": "markdown",
   "metadata": {},
   "source": [
    "Is $2^{2n}=O(2^n)$? Justify your answer."
   ]
  },
  {
   "cell_type": "markdown",
   "metadata": {},
   "source": [
    "ASSUME $2^{2n} = O(2^n) $\n",
    "\n",
    "There exist positive constants c and $n_0$ such that:\n",
    "   $ 0\\le2^{2n} \\le c2^n$ for all $n\\ge n_0$\n",
    "   \n",
    "  That means $2^{n} \\le c$, but $2^{n}$ is continuously growing, $c$ is a constant, so it is conflicting.\n",
    "  \n",
    "Therefore, $2^{2n}\\ne O(2^n)$"
   ]
  },
  {
   "cell_type": "markdown",
   "metadata": {},
   "source": [
    "### Question 3 (3 points)"
   ]
  },
  {
   "cell_type": "markdown",
   "metadata": {},
   "source": [
    "Show that the function $100n\\lg{n}$ is $O(n^2-1)$."
   ]
  },
  {
   "cell_type": "markdown",
   "metadata": {},
   "source": [
    "If there exist positive constants c and $n_0$ such that:\n",
    "   $ 0\\le100nlg(n) \\le c(n^2-1)$ for all $n \\ge n_0$\n",
    "   \n",
    "$100nlg(n) \\le 100n^2 \\le 101(n^2-1)$ for all $n \\ge 100$\n",
    "\n",
    "Therefore we can find the combination $n=101$ and $n_0=100$ to satisfy the condition.  \n",
    "\n",
    "\n",
    "$100nlgn = O(n^2-1)$"
   ]
  },
  {
   "cell_type": "markdown",
   "metadata": {},
   "source": [
    "## Bubble Sort"
   ]
  },
  {
   "cell_type": "markdown",
   "metadata": {},
   "source": [
    "`BUBBLE-SORT` is yet another sorting technique as described in the following [Pseudocode](https://gw-datasci.github.io/DATS-6001/notes/big-o.html#bubble-sort)."
   ]
  },
  {
   "cell_type": "markdown",
   "metadata": {},
   "source": [
    "### Question 4 (2 points)"
   ]
  },
  {
   "cell_type": "markdown",
   "metadata": {},
   "source": [
    "In 3-5 sentences, describe the strategy of `BUBBLE-SORT` in plain English."
   ]
  },
  {
   "cell_type": "markdown",
   "metadata": {},
   "source": [
    "The strategy of `BUBBLE-SORT` is to build a nested loop, it loops all factor from $0$ to the last-second-element in the array and, in the inner loop, it loops from the last-element to the element from the beginning. In the inner loop, it ensures the largest element in the end of position in the inner loop. Therefore, when the outer loops are all done, the all elements are in the ascending order."
   ]
  },
  {
   "cell_type": "markdown",
   "metadata": {},
   "source": [
    "### Question 5 (1 points)"
   ]
  },
  {
   "cell_type": "markdown",
   "metadata": {},
   "source": [
    "Why does it suffice for the outer for-loop to run from $0$ to $n-2$, leaving out the index $n-1$?"
   ]
  },
  {
   "cell_type": "markdown",
   "metadata": {},
   "source": [
    "In the outer loop, $i$ begins from $0$ and ends to $n-2$ and in the inner loop, it will compare $A[i]$ and $A[i+1]$. \n",
    "\n",
    "In this case, it will compare all factors even just loop from $0$ to $n-2$. It is meaningless to leave out the index $n-1$.  "
   ]
  },
  {
   "cell_type": "markdown",
   "metadata": {},
   "source": [
    "### Question 6 (1 points)"
   ]
  },
  {
   "cell_type": "markdown",
   "metadata": {},
   "source": [
    "Describe the worst-case input to `BUBBLE-SORT`."
   ]
  },
  {
   "cell_type": "markdown",
   "metadata": {},
   "source": [
    "1: procedure BubbleSort($A[0:n−1]$)\n",
    "\n",
    "2: for $i=0$ to $n−2$ do\n",
    "\n",
    "3: for $j=n−1$ downto $i+1$ do\n",
    "\n",
    "4: if $A[j] < A[j−1]$ then\n",
    "\n",
    "5: exchange $A[j]$ with $A[j−1]$\n",
    "\n",
    "6: end if\n",
    "\n",
    "7: end for\n",
    "\n",
    "8: end for\n",
    "\n",
    "9: end procedure\n",
    "\n",
    "For this procedure, the worst-case is the factors in the array $A[0:n-1]$ ranked from the max to the min. The procedure will run the most times.\n",
    "\n",
    "Line $2$ the worst-case running time is $n-1$;\n",
    "\n",
    "Line $3$ the worst-case running time is $(n-1) + (n-2) + (n-3) + ... +1 = \\frac{ n\\times(n-1)}{2} $;\n",
    "\n",
    "Line $4, 5$ the worst-case running time is $\\frac{n \\times (n-1)}{2} $; (This line running time is equal to the running time of the inner loop)\n",
    "\n",
    "Therefore, the total running time $T(n) = 3\\times \\frac{(n-1)\\times n}{2}+(n-1)$"
   ]
  },
  {
   "cell_type": "markdown",
   "metadata": {},
   "source": [
    "### Question 7 (2 points)"
   ]
  },
  {
   "cell_type": "markdown",
   "metadata": {},
   "source": [
    "What is the worst-case running time of `BUBBLE-SORT` in Big-O notation? Justify your answer."
   ]
  },
  {
   "cell_type": "markdown",
   "metadata": {},
   "source": [
    "`BUBBLE-SORT` Big-O notation is $O(n^2)$\n",
    "\n",
    "If there exist positive constants $c$ and $𝑛_0$ such that: \n",
    "\n",
    "$0≤ 3\\times \\frac{(n-1)\\times n}{2}+(n-1)≤𝑐(n^2)$  for all  $𝑛≥𝑛_0$\n",
    "\n",
    "\n",
    "$3\\times \\frac{(n-1)\\times n}{2}+(n-1)-c\\times (n^2) = \\frac{[(3-2c)(n^2)-n-2]}{2} \\le 0$ \n",
    "\n",
    "There is a combination $c=1$ and $n_0=2$ for all $n \\ge 2$\n",
    "\n",
    "$0≤ 3\\times \\frac{(n-1)\\times n}{2}+(n-1) \\le n^2$\n",
    "\n",
    "We can say `BUBBLE-SORT`'s Big-O notation is $O(n^2)$"
   ]
  },
  {
   "cell_type": "markdown",
   "metadata": {},
   "source": [
    "### Question 8 (2 points)"
   ]
  },
  {
   "cell_type": "markdown",
   "metadata": {},
   "source": [
    "How does it compare with the running time of `INSERTION-SORT`?\n"
   ]
  },
  {
   "cell_type": "markdown",
   "metadata": {},
   "source": [
    "`BUBBLE-SORT` and `INSERTION-SORT` both are the simple sort algorithm and have the same average time complexity and worst-case time complexity.\n",
    "\n",
    "\n",
    "However, `INSERTION-SORT` has a better performance when it comes to the best-case. `INSERTION-SORT` typically makes fewer comparisons and requires fewer shifts (in the case where the element to be inserted is compared to already-sorted elements) than Bubble Sort requires swaps."
   ]
  },
  {
   "cell_type": "markdown",
   "metadata": {},
   "source": [
    "### Question 9 (3 points)"
   ]
  },
  {
   "cell_type": "markdown",
   "metadata": {},
   "source": [
    "Implement `BUBBLE-SORT` in Python.\n"
   ]
  },
  {
   "cell_type": "code",
   "execution_count": 10,
   "metadata": {},
   "outputs": [
    {
     "name": "stdout",
     "output_type": "stream",
     "text": [
      "[-3, -1, 0, 6, 8]\n"
     ]
    }
   ],
   "source": [
    "A = [8, 6, 0, -1, -3]\n",
    "\n",
    "for i in range(0, len(A)-1):\n",
    "    for j in range (len(A)-1, i, -1):\n",
    "        if A[j] < A[j-1]:\n",
    "            A[j], A[ j-1] = A[j-1], A[ j]\n",
    "            \n",
    "print(A)"
   ]
  }
 ],
 "metadata": {
  "kernelspec": {
   "display_name": "Python 3 (ipykernel)",
   "language": "python",
   "name": "python3"
  },
  "language_info": {
   "codemirror_mode": {
    "name": "ipython",
    "version": 3
   },
   "file_extension": ".py",
   "mimetype": "text/x-python",
   "name": "python",
   "nbconvert_exporter": "python",
   "pygments_lexer": "ipython3",
   "version": "3.11.5"
  }
 },
 "nbformat": 4,
 "nbformat_minor": 2
}
