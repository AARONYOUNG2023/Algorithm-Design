{
 "cells": [
  {
   "cell_type": "markdown",
   "metadata": {},
   "source": [
    "# Homework 3"
   ]
  },
  {
   "cell_type": "markdown",
   "metadata": {},
   "source": [
    "Write your name: **Aaron_Yang**"
   ]
  },
  {
   "cell_type": "markdown",
   "metadata": {},
   "source": [
    "## Inversions"
   ]
  },
  {
   "cell_type": "markdown",
   "metadata": {},
   "source": [
    "Let $A[0:n-1]$ be an array of $n$ numbers. If $i<j$ and $A[i]>A[j]$, then the \n",
    "pair $(i,j)$ is called an **inversion** of $A$."
   ]
  },
  {
   "cell_type": "markdown",
   "metadata": {},
   "source": [
    "### Question 1 (1 point)"
   ]
  },
  {
   "cell_type": "markdown",
   "metadata": {},
   "source": [
    "List the five inversions of the array `<2, 3, 8, 6, 1>`."
   ]
  },
  {
   "cell_type": "markdown",
   "metadata": {},
   "source": [
    "1. (0, 4)\n",
    "2. (1, 4)\n",
    "3. (2, 3)\n",
    "4. (2, 4)\n",
    "5. (3, 4)"
   ]
  },
  {
   "cell_type": "code",
   "execution_count": 4,
   "metadata": {},
   "outputs": [
    {
     "name": "stdout",
     "output_type": "stream",
     "text": [
      "[(0, 4), (1, 4), (2, 3), (2, 4), (3, 4)]\n"
     ]
    }
   ],
   "source": [
    "def inversion_search(arr):\n",
    "    inversion_pair = []\n",
    "    for i in range(len(arr)-1):\n",
    "        for j in range(i+1, len(arr)):\n",
    "            if arr[i] > arr[j]:\n",
    "                inversion_pair.append((i, j))\n",
    "    return inversion_pair\n",
    "\n",
    "A = [2, 3, 8, 6, 1]\n",
    "print(inversion_search(A))"
   ]
  },
  {
   "cell_type": "markdown",
   "metadata": {},
   "source": [
    "### Question 2 (1 point)"
   ]
  },
  {
   "cell_type": "markdown",
   "metadata": {},
   "source": [
    "What array with elements from the set $\\{1, 2, \\ldots, n\\}$ has the most inversions?\n",
    "\n",
    "🏅 Bonus: Can you count how many in terms of $n$?\n"
   ]
  },
  {
   "cell_type": "markdown",
   "metadata": {},
   "source": [
    "If the elements are in ascending order in a set, the set will have the most inversions.\n",
    "\n",
    "If I would like to count the number of inversion pairs, just pick any pair numbers' location, like (0, 1), (0, 2), (0, 3) ... Therefore the number of inversion pairs, just use a combination $C^{2}_{n} = \\frac{n \\times (n-1)}{2}$ "
   ]
  },
  {
   "cell_type": "markdown",
   "metadata": {},
   "source": [
    "### Question 3 (2 points)"
   ]
  },
  {
   "cell_type": "markdown",
   "metadata": {},
   "source": [
    "Give an **incremental** algorithm that determines the number of inversions in any permutation of $n$ elements in $O(n^2)$. Provide either a pseudocode *or* Python implementation."
   ]
  },
  {
   "cell_type": "code",
   "execution_count": null,
   "metadata": {},
   "outputs": [],
   "source": [
    "def inversion_search(array):\n",
    "    inversion_pair = []\n",
    "    for i in range(len(array)-1):\n",
    "        for j in range(i+1, len(array)):\n",
    "            if array[i] > array [j]:\n",
    "                inversion_pair.append((i, j))\n",
    "    return inversion_pair"
   ]
  },
  {
   "cell_type": "markdown",
   "metadata": {},
   "source": [
    "## Divide-and-Conquer"
   ]
  },
  {
   "cell_type": "markdown",
   "metadata": {},
   "source": [
    "### Question 4 (3 points)"
   ]
  },
  {
   "cell_type": "markdown",
   "metadata": {},
   "source": [
    "Design a **recursive** algorithm that determines the number of inversions in any permutation of $n$ elements. Provide either a pseudocode *or* Python implementation. Try to make it better than $O(n^2)$.\n",
    "**Hint:** Modify `MERGE-SORT`."
   ]
  },
  {
   "cell_type": "code",
   "execution_count": 8,
   "metadata": {},
   "outputs": [
    {
     "name": "stdout",
     "output_type": "stream",
     "text": [
      "[(0, 1), (2, 3), (0, 2), (0, 2), (1, 4), (1, 4), (1, 4), (1, 5), (1, 5), (1, 5)]\n"
     ]
    }
   ],
   "source": [
    "def merge_and_count_inversions(array, start, mid, end):\n",
    "    n_L = mid - start + 1\n",
    "    n_R = end - mid\n",
    "    L = array[start:mid + 1]\n",
    "    R = array[mid + 1:end + 1]\n",
    "    \n",
    "    inversion_pairs = []\n",
    "    i = j = 0\n",
    "    k = start\n",
    "    \n",
    "    while i < n_L and j < n_R:\n",
    "        if L[i] <= R[j]:\n",
    "            array[k] = L[i]\n",
    "            i += 1\n",
    "        else:\n",
    "            array[k] = R[j]\n",
    "            inversion_pairs += [(start + i, mid + 1 + j)] * (n_L - i)  # Add all inversions for this split\n",
    "            j += 1\n",
    "        k += 1\n",
    "    \n",
    "    while i < n_L:\n",
    "        array[k] = L[i]\n",
    "        i += 1\n",
    "        k += 1\n",
    "    \n",
    "    while j < n_R:\n",
    "        array[k] = R[j]\n",
    "        j += 1\n",
    "        k += 1\n",
    "    \n",
    "    return inversion_pairs\n",
    "\n",
    "def recursive_inversion_search(array, start, end):\n",
    "    inversion_pairs = []\n",
    "    if start < end:\n",
    "        mid = (start + end) // 2\n",
    "        inversion_pairs += recursive_inversion_search(array, start, mid)\n",
    "        inversion_pairs += recursive_inversion_search(array, mid + 1, end)\n",
    "        inversion_pairs += merge_and_count_inversions(array, start, mid, end)\n",
    "    return inversion_pairs\n",
    "\n",
    "# Test data\n",
    "A = [3, 2, 5, -1, 0, 1, 7, 9]\n",
    "\n",
    "# Print the result and check the result\n",
    "print(recursive_inversion_search(A, 0, len(A) - 1))\n"
   ]
  },
  {
   "cell_type": "markdown",
   "metadata": {},
   "source": [
    "### Question 5 (3 points)"
   ]
  },
  {
   "cell_type": "markdown",
   "metadata": {},
   "source": [
    "Design a **recursive** algorithm that, given a set $S$ of $n$ integers and another integer $x$, determines whether $S$ contains two elements that sum to exactly $x$. Provide either a pseudocode *or* Python implementation. Try to make it better than $O(n^2)$. "
   ]
  },
  {
   "cell_type": "code",
   "execution_count": 14,
   "metadata": {},
   "outputs": [
    {
     "name": "stdout",
     "output_type": "stream",
     "text": [
      "[(1, 2), (3, 0), (-1, 4)]\n"
     ]
    }
   ],
   "source": [
    "def sum_search(array, x):\n",
    "    sum_pair = []\n",
    "    for i in range(0, len(array)):\n",
    "        for j in range(i+1, len(array)):\n",
    "            if array[i] + array[j] == x:\n",
    "                sum_pair.append((array[i], array[j]))\n",
    "    return sum_pair\n",
    "# Test data\n",
    "x = 3\n",
    "S = [1, 2, 3, -1, 4, 0]\n",
    "\n",
    "# Print the result\n",
    "print(sum_search(S, x))"
   ]
  },
  {
   "cell_type": "code",
   "execution_count": 30,
   "metadata": {},
   "outputs": [
    {
     "name": "stdout",
     "output_type": "stream",
     "text": [
      "[(-1, 4), (0, 3), (1, 2)]\n"
     ]
    }
   ],
   "source": [
    "# To reduce the time complexity, merge_sort can be used\n",
    "def merge_sort(array):\n",
    "    # Set a condition to ensure the merge_sort will split all array into only one element\n",
    "    if len(array) > 1:\n",
    "        # Calculate the midpoint\n",
    "        mid = len(array) //2\n",
    "        # Create L and R two new array\n",
    "        L = array[:mid]\n",
    "        R = array[mid:]\n",
    "        # Loop all L and R into the merge_sort to ensure all array are all one-element array\n",
    "        merge_sort(L)\n",
    "        merge_sort(R)\n",
    "        # Set the initial index i, j, and k\n",
    "        i = j = k = 0\n",
    "        # Compare the smallest element in L and R\n",
    "        # Set three situations to ensure all element in the output are correct\n",
    "        # The first one is L and R all have non-sorted elements\n",
    "        while i < len(L) and j < len(R):\n",
    "            if L[i] < R[j]:\n",
    "                array[k] = L[i]\n",
    "                i += 1\n",
    "            else:\n",
    "                array[k] = R[j]\n",
    "                j += 1      \n",
    "            k += 1\n",
    "        # The second one is L has non-sorted element\n",
    "        while i < len(L):\n",
    "            array[k] = L[i]\n",
    "            i += 1\n",
    "            k += 1\n",
    "        # The third one is R has non-sorted element\n",
    "        while j < len(R):\n",
    "            array[k] = R[j]\n",
    "            j += 1\n",
    "            k += 1\n",
    "\n",
    "# if I can use one merge sorted array into the sum array, that means \n",
    "# I may use the sorted elements to reduce the running times in the sum_serach algorithm\n",
    "def recursive_sum_search(array, x):\n",
    "    # Apply merge_sort algorithm for the input array\n",
    "    merge_sort(array)\n",
    "    \n",
    "    # Initialise the index\n",
    "    left = 0\n",
    "    right = len(array) - 1\n",
    "    \n",
    "    # Build a blank list to store the final results\n",
    "    sum_pair = []\n",
    "\n",
    "    # Set three condition to ensure I can get all two elements in the array sum is value x\n",
    "    while left < right:\n",
    "        if array[left] + array[right] == x:\n",
    "            sum_pair.append((array[left], array[right]))\n",
    "            left += 1\n",
    "            right -= 1\n",
    "        elif array[left] + array[right] > x:\n",
    "            right -= 1\n",
    "        else:\n",
    "            left += 1\n",
    "    return sum_pair\n",
    "\n",
    "# Test data\n",
    "x = 3\n",
    "S = [1, 2, 3, -1, 4, 0]\n",
    "\n",
    "# Print the result\n",
    "print(recursive_sum_search(S,x))"
   ]
  }
 ],
 "metadata": {
  "kernelspec": {
   "display_name": "Python 3 (ipykernel)",
   "language": "python",
   "name": "python3"
  },
  "language_info": {
   "codemirror_mode": {
    "name": "ipython",
    "version": 3
   },
   "file_extension": ".py",
   "mimetype": "text/x-python",
   "name": "python",
   "nbconvert_exporter": "python",
   "pygments_lexer": "ipython3",
   "version": "3.12.1"
  }
 },
 "nbformat": 4,
 "nbformat_minor": 4
}
