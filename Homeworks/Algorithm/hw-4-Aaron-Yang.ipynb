{
 "cells": [
  {
   "cell_type": "markdown",
   "metadata": {},
   "source": [
    "# Homework 4"
   ]
  },
  {
   "cell_type": "markdown",
   "metadata": {},
   "source": [
    "Name: Aaron Yang"
   ]
  },
  {
   "cell_type": "markdown",
   "metadata": {},
   "source": [
    "## Space Complexity"
   ]
  },
  {
   "cell_type": "markdown",
   "metadata": {},
   "source": [
    "### Exercise 1 (2 points)"
   ]
  },
  {
   "cell_type": "markdown",
   "metadata": {},
   "source": [
    "While performing `MERGE-SORT` on an input array of size $n$, we create *auxiliary* or *extra* array(s) (apart from the input array) to temporarily store the elements.\n",
    "Describe, as a function of $n$, the total size of auxiliary array(s) that should suffice\n"
   ]
  },
  {
   "cell_type": "markdown",
   "metadata": {},
   "source": [
    "==========================================================================================="
   ]
  },
  {
   "cell_type": "markdown",
   "metadata": {},
   "source": [
    "It can reduce the space complexity of merge sort to $ O(n) $ by using a single auxiliary array. Instead of creating a new temporary array for each level of the recursion, it can reuse the same auxiliary array.\r\n",
    "\r\n",
    "To do this, it can start by merging the two smallest subarrays into the auxiliary array. Once the two subarrays have been merged, it can copy the elements from the auxiliary array back to the original array. It can then repeat this process for the next two smallest subarrays, and so on.\r\n",
    "\r\n",
    "By using a single auxiliary array, it can reduce the space complexity of merge sort to \\( O(n) \\).\r\n"
   ]
  },
  {
   "cell_type": "markdown",
   "metadata": {},
   "source": [
    "==========================================================================================="
   ]
  },
  {
   "cell_type": "markdown",
   "metadata": {},
   "source": [
    "## Recursion"
   ]
  },
  {
   "cell_type": "markdown",
   "metadata": {},
   "source": [
    "### Exercise 2 (3 points)"
   ]
  },
  {
   "cell_type": "markdown",
   "metadata": {},
   "source": [
    "Sketch the recursion tree and guess a good upper bound (in big-$O$ notation) for the following recursion:\n",
    "$$T(n)=T(n/2) + n^3.$$\n"
   ]
  },
  {
   "cell_type": "markdown",
   "metadata": {},
   "source": [
    "==========================================================================================="
   ]
  },
  {
   "cell_type": "markdown",
   "metadata": {},
   "source": [
    "More details are written in the attacked picture (1).\n",
    "\n",
    "$$ T(n) = n^3 + (\\frac{n}{2})^3 + (\\frac{n}{4})^3 + ... + 1^3 $$\n",
    "$$ T(n) = \\frac{8}{7} (n^3-1) $$"
   ]
  },
  {
   "cell_type": "markdown",
   "metadata": {},
   "source": [
    "==========================================================================================="
   ]
  },
  {
   "cell_type": "markdown",
   "metadata": {},
   "source": [
    "### Exercise 3 (1 point)"
   ]
  },
  {
   "cell_type": "markdown",
   "metadata": {},
   "source": [
    "Use the Master Theorem to verify your answer to Exercise 2.\n"
   ]
  },
  {
   "cell_type": "markdown",
   "metadata": {},
   "source": [
    "==========================================================================================="
   ]
  },
  {
   "cell_type": "markdown",
   "metadata": {},
   "source": [
    "If I use Master Theorem to verify the answer in the exercise 2, I have to distinguish what are a, b, k.\n",
    "\n",
    "Based on the equation $T(n)$ of the exercise 2:\n",
    "\n",
    "$ a = 1 $\n",
    "$ b = 2 $\n",
    "$ k = 3 $\n",
    "\n",
    "Therefore,\n",
    "\n",
    "$b^k = 2^3 = 8$\n",
    "\n",
    "Because, $ a < b^k$, $T(n) = O(n^3)$\n"
   ]
  },
  {
   "cell_type": "markdown",
   "metadata": {},
   "source": [
    "==========================================================================================="
   ]
  },
  {
   "cell_type": "markdown",
   "metadata": {},
   "source": [
    "### Exercise 4 (3 points)"
   ]
  },
  {
   "cell_type": "markdown",
   "metadata": {},
   "source": [
    "Sketch the recursion tree and guess a good upper bound (in big-$O$ notation) for the following recursion:\n",
    "$$T(n)=4T(n/2) + n.$$\n"
   ]
  },
  {
   "cell_type": "markdown",
   "metadata": {},
   "source": [
    "==========================================================================================="
   ]
  },
  {
   "cell_type": "markdown",
   "metadata": {},
   "source": [
    "More details are written in the attached picture $(2)$.\n",
    "$$ T(n) = n + 2*n + 4*n + ... +n^2 $$\n",
    "$$ T(n) = n^2 -n $$\n",
    "Therefore $$ O(n^2) $$"
   ]
  },
  {
   "cell_type": "markdown",
   "metadata": {},
   "source": [
    "==========================================================================================="
   ]
  },
  {
   "cell_type": "markdown",
   "metadata": {},
   "source": [
    "### Exercise 5 (1 point)"
   ]
  },
  {
   "cell_type": "markdown",
   "metadata": {},
   "source": [
    "Use the Master Theorem to verify your answer to Exercise 4.\n"
   ]
  },
  {
   "cell_type": "markdown",
   "metadata": {},
   "source": [
    "==========================================================================================="
   ]
  },
  {
   "cell_type": "markdown",
   "metadata": {},
   "source": [
    "If I use Master Theorem to verify the answer in the exercise 4, I have to distinguish what are a, b, k.\n",
    "\n",
    "Based on the equation $T(n)$ of the exercise 4:\n",
    "\n",
    "$ a = 4 $\n",
    "$ b = 2 $\n",
    "$ k = 1 $\n",
    "\n",
    "Therefore,\n",
    "\n",
    "$b^k = 2^1 = 2$\n",
    "\n",
    "Because, $ a > b^k$, $T(n) = O(n^{\\log_{2}{4}}) = O(n^2)$"
   ]
  },
  {
   "cell_type": "markdown",
   "metadata": {},
   "source": [
    "==========================================================================================="
   ]
  }
 ],
 "metadata": {
  "kernelspec": {
   "display_name": "Python 3 (ipykernel)",
   "language": "python",
   "name": "python3"
  },
  "language_info": {
   "codemirror_mode": {
    "name": "ipython",
    "version": 3
   },
   "file_extension": ".py",
   "mimetype": "text/x-python",
   "name": "python",
   "nbconvert_exporter": "python",
   "pygments_lexer": "ipython3",
   "version": "3.11.7"
  }
 },
 "nbformat": 4,
 "nbformat_minor": 4
}
