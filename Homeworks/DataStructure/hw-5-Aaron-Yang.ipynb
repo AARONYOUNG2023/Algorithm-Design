{
 "cells": [
  {
   "cell_type": "markdown",
   "metadata": {},
   "source": [
    "# Homework 5"
   ]
  },
  {
   "cell_type": "markdown",
   "metadata": {},
   "source": [
    "Name: Aaron Yang"
   ]
  },
  {
   "cell_type": "markdown",
   "metadata": {},
   "source": [
    "## Heaps"
   ]
  },
  {
   "cell_type": "markdown",
   "metadata": {},
   "source": [
    "### Exercise 1 (2 points)"
   ]
  },
  {
   "cell_type": "markdown",
   "metadata": {},
   "source": [
    "Justify why the height of heap with $n$ nodes is $\\lfloor\\lg{n}\\rfloor$."
   ]
  },
  {
   "cell_type": "markdown",
   "metadata": {},
   "source": [
    "**For a Heap, it is a binary tree data structure. That means the zero layer is one element, and two elements, four elements, ..., following.**\n",
    "\n",
    "The root:  $2^0$\n",
    "\n",
    "1st Layer: $2^1$ nodes\n",
    "\n",
    "2nd Layer: $2^2$ nodes\n",
    "\n",
    "...\n",
    "\n",
    "k Layer: $2^{k}$ nodes\n",
    "\n",
    "And, the total nodes is n nodes, so $2^0+2^1+2^2+...+2^{k}=n$\n",
    "\n",
    "Therefore, $2^{k+1}-1=n$\n",
    "\n",
    "Finally, we can get $k=lg{n}$"
   ]
  },
  {
   "cell_type": "markdown",
   "metadata": {},
   "source": [
    "### Exercise 2 (3 points)"
   ]
  },
  {
   "cell_type": "markdown",
   "metadata": {},
   "source": [
    "Show that, with the array representation for storing an $n$-element heap, the \n",
    "leaves are the nodes indexed by \n",
    "$$\\lfloor(n-1)/2\\rfloor,\\lfloor(n-1)/2\\rfloor+1,\\ldots,n-1.$$\n"
   ]
  },
  {
   "cell_type": "markdown",
   "metadata": {},
   "source": [
    "Transferring an array $A$ to a Heap, it should be transferred from $A[0]$ to $A[n-1]$ into a Heap. The root is $A[0]$, and the left child node of the root is $A[1]$ and the right child node of the root is $A[2]$. And then, the 2nd layer elements are $A[3]$, $A[4]$, $A[5]$, $A[6]$. If a heap is transferred to an array, it should follow the above rule. \n",
    "\n",
    "<u>**The first node in the leaves should not have children, and the node before the first node should have children, and its children includes the last two elements in the array. In one array, the last element is $n-1$.**<u>"
   ]
  },
  {
   "cell_type": "code",
   "execution_count": 6,
   "metadata": {
    "scrolled": true
   },
   "outputs": [
    {
     "data": {
      "image/png": "[encoded data removed]",
      "text/plain": [
       "<Figure size 640x480 with 1 Axes>"
      ]
     },
     "metadata": {},
     "output_type": "display_data"
    }
   ],
   "source": [
    "import matplotlib.pyplot as plt\n",
    "import networkx as nx\n",
    "\n",
    "G = nx.Graph()\n",
    "\n",
    "# Adding nodes for heap\n",
    "nodes = ['$A[{}]$'.format(i) for i in range(15)]\n",
    "G.add_nodes_from(nodes)\n",
    "\n",
    "# Adding edges based on heap property\n",
    "for i in range(len(nodes)):\n",
    "    left_index = 2 * i + 1\n",
    "    right_index = 2 * i + 2\n",
    "\n",
    "    if left_index < len(nodes):\n",
    "        G.add_edge('$A[{}]$'.format(i), '$A[{}]$'.format(left_index))\n",
    "\n",
    "    if right_index < len(nodes):\n",
    "        G.add_edge('$A[{}]$'.format(i), '$A[{}]$'.format(right_index))\n",
    "\n",
    "# Correctly parse the node label to extract the index\n",
    "def get_index_from_label(label):\n",
    "    return int(label.split('[')[1].split(']')[0])\n",
    "\n",
    "# Manual calculation for tree layout\n",
    "def tree_layout(G):\n",
    "    pos = {}\n",
    "    levels = max([len(bin(x))-2 for x in range(len(G.nodes))])\n",
    "    \n",
    "    for node in G.nodes:\n",
    "        index = get_index_from_label(node)  # Correctly extract the index from the node label\n",
    "        level = int(math.log2(index + 1))\n",
    "        width = 2**(levels - level)\n",
    "        x = (index - 2**level + 1) * width + width / 2\n",
    "        pos[node] = (x, -level)\n",
    "    return pos\n",
    "\n",
    "pos = tree_layout(G)\n",
    "\n",
    "# Draw the graph as a tree\n",
    "nx.draw(G, pos, with_labels=True, node_color='lightblue', edge_color='gray', node_size=500)\n",
    "plt.show()"
   ]
  },
  {
   "cell_type": "markdown",
   "metadata": {},
   "source": [
    "From the above tree graph, for any index like $i$ index in an array, its left child in the array should be $2\\times{i}+1$, while its right child in the array index should be $2\\times{i}+2$. \n",
    "\n",
    "And the last element in one Heap should be $A[n-1]$, and the last node who has children node in the array index should be $\\frac{(n-1)}{2}$.\n",
    "\n",
    "Therefore, the first node in the leaves in the array index should be $\\frac{(n-1)}{2}+1$, and the following nodes are $\\frac{(n-1)}{2}+2, \\frac{(n-1)}{2}+2, ..., n-1$,\n",
    "\n",
    "Therefore, the the leaves are the nodes indexed in one array by \n",
    "$$\\lfloor(n-1)/2\\rfloor,\\lfloor(n-1)/2\\rfloor+1,\\ldots,n-1.$$"
   ]
  },
  {
   "cell_type": "markdown",
   "metadata": {},
   "source": [
    "### Exercise 3 (3 points)"
   ]
  },
  {
   "cell_type": "markdown",
   "metadata": {},
   "source": [
    "For any index $i$ into an array, print all the nodes at that level. You may either give an algorithm or its Python implementation."
   ]
  },
  {
   "cell_type": "markdown",
   "metadata": {},
   "source": [
    "$$ Algorithm $$\n",
    "**The strategy to print all the nodes at that level where index $i$ into an array, is to find the start index of one level and the end index of one level, and then print the all elements from the start index to end index in the array**\n",
    "\n",
    "Pseudocode\n",
    "\n",
    "<u>Find the level in the Heap of index i in an array<u>\n",
    "\n",
    "$$ 2^0+2^1+2^2+...+2^{k} = n $$\n",
    "\n",
    "<u>Assume the level of index i is k<u>\n",
    "\n",
    "$$ 2^{k}-2<i<=2^{k+1}-2 $$ (constant number c means the node number at that level where array[i] is located) \n",
    "\n",
    "$$ 2^{k-1}-1<i<=2^{k}-1 $$\n",
    "\n",
    "$$ k=\\log_{2}{(n+1)} $$\n",
    "\n",
    "<u>Calculate the start index on the level where array[i] is located<u>\n",
    "\n",
    "$$ start index = 2^{k}-1 $$ \n",
    "\n",
    "$$ end index = 2^{k+1}-2 $$\n",
    "\n",
    "print the elements from array[start_index] to array[end_index]"
   ]
  },
  {
   "cell_type": "code",
   "execution_count": 12,
   "metadata": {},
   "outputs": [
    {
     "name": "stdout",
     "output_type": "stream",
     "text": [
      "[3 4 5 6]\n",
      "None\n"
     ]
    }
   ],
   "source": [
    "import numpy as np\n",
    "import math\n",
    "# Create a test array\n",
    "A = np.arange(0, 100)\n",
    "\n",
    "# Create a function to print all nodes at that level where array[i] is located\n",
    "def generate_nodes_level_i(array, i):\n",
    "    # Calculate the level\n",
    "    level = math.floor(math.log2(i+1))\n",
    "    # Calculate the start index\n",
    "    start_index = 2**level-1\n",
    "    # Calculate the end index\n",
    "    end_index = min(2**(level+1)-2, len(array)-1)\n",
    "\n",
    "    # Print the all elements from start_index to end_index\n",
    "    nodes_level_i = array[start_index:end_index+1]\n",
    "    \n",
    "    print(nodes_level_i)\n",
    "\n",
    "print(generate_nodes_level_i(A, 5))"
   ]
  },
  {
   "cell_type": "markdown",
   "metadata": {},
   "source": [
    "### Exercise 4 (2 points)"
   ]
  },
  {
   "cell_type": "markdown",
   "metadata": {},
   "source": [
    "Show that each child of the root of an $n$-node heap is the root of a subtree containing at most $2n/3$ nodes."
   ]
  },
  {
   "cell_type": "markdown",
   "metadata": {},
   "source": [
    "For a $n$ node heap, the total node number is \n",
    "\n",
    "$$ 2^0+2^1+2^2+2^3+...+2^k = 2^{k+1}-1 $$\n",
    "\n",
    "The maximum node number of each child of the root of an $n$ node heap is the node number of a $k-1$ level heap\n",
    "\n",
    "$$ 2^0+2^1+2^2+2^3+...+2^{k-1} = 2^{k}-1 $$\n",
    "\n",
    "If want to prove each child of the root of an $n$ node heap is the root of a subtree containing at most $2n/3$ nodes, just prove\n",
    "\n",
    "$$ 2^{k}-1\\le\\frac{2}{3}(2^{k+1}-1) $$\n",
    "\n",
    "For k=0, the heap has only one level and one node, no child, so it does not need to be discussed\n",
    "\n",
    "For k=1, the heap has 0 and 1 level and 3 nodes, it satisfies the condition of the question\n",
    "\n",
    "For k=2, the heap has 0, 1, 2 levels and 7 nodes, the maximum nodes number of a subtree is 3 nodes, the $n$ node heap has 7 nodes, $ 3\\le \\frac{2\\times7}{3} $, it satisfies the condition of the question\n",
    "\n",
    "For k$\\ge$3, \n",
    "\n",
    "$$\\frac{2}{3}(2^{k+1}-1)-(2^{k}-1)=\\frac{1}{3}(2^{k}+1)>0 $$\n",
    "\n",
    "Therefore, \n",
    "\n",
    "$$\\frac{2}{3}(2^{k+1}-1) \\gt (2^{k}-1) $$\n",
    "\n",
    "In conclusion, each child of the root of an $n$-node heap is the root of a subtree containing at most $2n/3$ nodes.\n",
    "\n"
   ]
  },
  {
   "cell_type": "markdown",
   "metadata": {},
   "source": [
    "## Max-Heaps"
   ]
  },
  {
   "cell_type": "markdown",
   "metadata": {},
   "source": [
    "### Exercise 5 (4 points)"
   ]
  },
  {
   "cell_type": "markdown",
   "metadata": {},
   "source": [
    "Given a heap (with a given `heap-size`), design an algorithm to check if it is a max-heap. Write a pseudocode or describe the steps of `IS-MAX-HEAP`.\n"
   ]
  },
  {
   "cell_type": "markdown",
   "metadata": {},
   "source": [
    "Assume the `heap-size` is $n$, if a heap is a max-heap, $A[parent(i)]$ $\\ge A[i]$.\n",
    "\n",
    "Pseudocode `IS-MAX-HEAP`\n",
    "\n",
    "The element in an array is indexed by $i$, $A[i]$\n",
    "\n",
    "left_child_node=$A[2i+1]$\n",
    "\n",
    "right_child_node=$A[2i+2]$\n",
    "\n",
    "The last parent element is floor($A[\\frac{n-2}{2}]$)\n",
    "\n",
    "for $i$ in range $0$ to floor($\\frac{n-2}{2}$):\n",
    "    \n",
    "if \n",
    "\n",
    "$${A[i]}\\lt{A[2i+2]} and {2i*2}\\le{n}$$\n",
    "    \n",
    "    return False\n",
    "        \n",
    "elif \n",
    "\n",
    "$${A[i]}\\lt{A[2i+1]}$$\n",
    "    \n",
    "    return False\n",
    "        \n",
    "else:\n",
    "    \n",
    "    return True\n",
    "        \n",
    "end if\n",
    "    \n",
    "end for\n",
    "\n",
    "end"
   ]
  },
  {
   "cell_type": "markdown",
   "metadata": {},
   "source": [
    "### Exercise 6 (4 points)"
   ]
  },
  {
   "cell_type": "markdown",
   "metadata": {},
   "source": [
    "Implement the algorithm `IS-MAX-HEAP` in Python.\n"
   ]
  },
  {
   "cell_type": "code",
   "execution_count": 11,
   "metadata": {},
   "outputs": [
    {
     "name": "stdout",
     "output_type": "stream",
     "text": [
      "False\n",
      "True\n"
     ]
    }
   ],
   "source": [
    "def is_max_heap(array, n):\n",
    "    for i in range(0, int((n-2)/2)):\n",
    "        if array[i]<array[2*i+1]:\n",
    "            return False\n",
    "        elif 2*i+2<n and array[i]<array[2*i+2]:\n",
    "            return False\n",
    "    return True\n",
    "A=[1,2,3,4,5]\n",
    "B=[5,4,3,2,1]\n",
    "\n",
    "print(is_max_heap(A, len(A)))\n",
    "print(is_max_heap(B, len(B)))"
   ]
  },
  {
   "cell_type": "markdown",
   "metadata": {},
   "source": [
    "### Exercise 7 (2 points)"
   ]
  },
  {
   "cell_type": "markdown",
   "metadata": {},
   "source": [
    "Analyze the running time of `IS-MAX-HEAP`.\n"
   ]
  },
  {
   "cell_type": "markdown",
   "metadata": {},
   "source": [
    "def is_max_heap(array, n):\n",
    "\n",
    "for i in range(0, int((n-2)/2))\n",
    "\n",
    "$$array[i]<array[2*i+1]$$\n",
    "\n",
    "running time is $$ \\frac{n-2}{2} $$\n",
    "    \n",
    "$$(2*i+2<{n})and({array[i]}<array[2*i+2])$$\n",
    "\n",
    "running time is $$ \\frac{n-2}{2} $$\n",
    "         \n",
    "False\n",
    "\n",
    "True\n",
    "\n",
    "Therefore, the total running time $T(n)$ is about $n-2$, big notion is $O(n)$"
   ]
  },
  {
   "cell_type": "markdown",
   "metadata": {},
   "source": [
    "### Exercise 8 (Bonus)"
   ]
  },
  {
   "cell_type": "markdown",
   "metadata": {},
   "source": [
    "Can you make it better than $O(n)$? Justify your answer."
   ]
  },
  {
   "cell_type": "markdown",
   "metadata": {},
   "source": [
    "The answer is NO.\n",
    "\n",
    "If an array can be proved as a max-heap, it must satisfy $$A[parent(i)]>A[i]$$. Therefore, it must include all non-leaf nodes. The number of all non-leaf nodes is close to $\\frac{n}{2}$, and the parent node has to be compared with the left child node and the right child node separately, so at least the algorithm, to validate if one array is a max-heap, running time is $O(n)$."
   ]
  }
 ],
 "metadata": {
  "kernelspec": {
   "display_name": "Python 3 (ipykernel)",
   "language": "python",
   "name": "python3"
  },
  "language_info": {
   "codemirror_mode": {
    "name": "ipython",
    "version": 3
   },
   "file_extension": ".py",
   "mimetype": "text/x-python",
   "name": "python",
   "nbconvert_exporter": "python",
   "pygments_lexer": "ipython3",
   "version": "3.11.7"
  }
 },
 "nbformat": 4,
 "nbformat_minor": 4
}
